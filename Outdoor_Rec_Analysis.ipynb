{
 "cells": [
  {
   "cell_type": "markdown",
   "id": "7fab421b-76c4-4d4a-8ce5-01d1e4d5b272",
   "metadata": {},
   "source": [
    "Project Strategy:\n",
    "\n",
    "Use MPO area. \n",
    "\n",
    "\"Best zip code for young families to live in that care about having ample outdoor recreation options\"\n",
    "\n",
    "Six Indicators:\n",
    "1. Farmers Markets (provided data) - Euclidean Distance\n",
    "2. Tree Canopy Raster (provided data) \n",
    "3. Bike trails (outside, from MassGIS) - Euclidean Distance\n",
    "4. Public pools (outside, from MassGIS) - Euclidean Distance\n",
    "5. Blue bikes (outside, from BlueBikes) - Euclidean Distance\n",
    "6. (Time allowing) Maybe download data on coffee shops? Reference USA - Euclidean Distance"
   ]
  },
  {
   "cell_type": "code",
   "execution_count": null,
   "id": "5164af49-864a-449d-b6c1-c2feb95d37fd",
   "metadata": {},
   "outputs": [],
   "source": []
  }
 ],
 "metadata": {
  "kernelspec": {
   "display_name": "Python 3",
   "language": "python",
   "name": "python3"
  },
  "language_info": {
   "codemirror_mode": {
    "name": "ipython",
    "version": 3
   },
   "file_extension": ".py",
   "mimetype": "text/x-python",
   "name": "python",
   "nbconvert_exporter": "python",
   "pygments_lexer": "ipython3",
   "version": "3.8.8"
  }
 },
 "nbformat": 4,
 "nbformat_minor": 5
}
